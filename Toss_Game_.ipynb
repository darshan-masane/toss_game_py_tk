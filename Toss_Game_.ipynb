{
 "cells": [
  {
   "cell_type": "code",
   "execution_count": 4,
   "metadata": {},
   "outputs": [],
   "source": [
    "import random\n",
    "import tkinter as tk\n",
    "from tkinter import messagebox\n",
    "\n",
    "#function for the game\n",
    "def heads_and_tails_game():\n",
    "    #game logic\n",
    "    def game_logic(user_choice):\n",
    "        #coin toss logic\n",
    "        coin_toss='Heads' if random.choice('ab')=='a' else 'Tails'\n",
    "        #check Result\n",
    "        result_message=f\"Coin Result: {coin_toss}\\n\"\n",
    "        if user_choice.lower()==coin_toss.lower():\n",
    "            result_message+='You Win!'\n",
    "        else:\n",
    "            result_message+='You Lose!'\n",
    "        \n",
    "        #display result in messageBox\n",
    "        messagebox.showinfo(\"Game Result\",result_message)\n",
    "    \n",
    "    def get_user_choice():\n",
    "        #create a new window for user input\n",
    "        choice_window=tk.Toplevel(window)\n",
    "        choice_window.title('Choose Heads or Tails')\n",
    "        choice_window.geometry(\"300x150\")\n",
    "        tk.Label(choice_window,text='Choose Heads or Tails:',font=('Helvetica',12)).pack(pady=10)\n",
    "\n",
    "        #function to pass choice to logic\n",
    "        def submit_choice(choice):\n",
    "            choice_window.destroy()\n",
    "            game_logic(choice)\n",
    "\n",
    "        #buttons for heads and tails\n",
    "        tk.Button(choice_window,text='Heads',command=lambda:submit_choice('Heads'),width=10).pack(side=tk.LEFT,padx=20)\n",
    "        tk.Button(choice_window,text='Tails',command=lambda:submit_choice('Tails'),width=10).pack(side=tk.LEFT,padx=20)\n",
    "\n",
    "    #call user input\n",
    "    get_user_choice()\n",
    "\n",
    "#main tkinter GUI\n",
    "window=tk.Tk()\n",
    "window.title('Heads & Tails Game')\n",
    "window.geometry('300x300')\n",
    "\n",
    "tk.Label(window,text='Heads & Tails Game',font=('Helvetica',16)).place(x=50,y=40)\n",
    "tk.Button(window,text='START',width=20,command=heads_and_tails_game).place(x=70,y=130)\n",
    "\n",
    "window.mainloop()\n"
   ]
  }
 ],
 "metadata": {
  "kernelspec": {
   "display_name": "Python 3",
   "language": "python",
   "name": "python3"
  },
  "language_info": {
   "codemirror_mode": {
    "name": "ipython",
    "version": 3
   },
   "file_extension": ".py",
   "mimetype": "text/x-python",
   "name": "python",
   "nbconvert_exporter": "python",
   "pygments_lexer": "ipython3",
   "version": "3.12.6"
  }
 },
 "nbformat": 4,
 "nbformat_minor": 2
}
